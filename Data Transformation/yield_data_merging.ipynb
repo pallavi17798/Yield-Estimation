{
 "cells": [
  {
   "cell_type": "code",
   "execution_count": 25,
   "id": "a7c44c22-161c-4379-a873-6c17e6529822",
   "metadata": {},
   "outputs": [],
   "source": [
    "import pandas as pd\n",
    "import numpy as np\n",
    "import matplotlib.pyplot as plt\n",
    "import pathlib"
   ]
  },
  {
   "cell_type": "code",
   "execution_count": 26,
   "id": "99627ce5-2587-489c-8900-bf556da1429c",
   "metadata": {},
   "outputs": [
    {
     "data": {
      "text/plain": [
       "[PosixPath('Yield_Data/Yield_data_16_17.xls'),\n",
       " PosixPath('Yield_Data/Yield_data_17_18.xls'),\n",
       " PosixPath('Yield_Data/Yield_data_18_19.xls'),\n",
       " PosixPath('Yield_Data/Yield_data_19_20.xls'),\n",
       " PosixPath('Yield_Data/Yield_data_20_21.xls')]"
      ]
     },
     "execution_count": 26,
     "metadata": {},
     "output_type": "execute_result"
    }
   ],
   "source": [
    "yield_data = list(pathlib.Path('Yield_Data').glob('*'))\n",
    "yield_data.sort()\n",
    "yield_data"
   ]
  },
  {
   "cell_type": "code",
   "execution_count": 27,
   "id": "5603cea5-d9f3-47fa-a87b-4f67bd51d2ae",
   "metadata": {},
   "outputs": [],
   "source": [
    "df1 = pd.read_excel(yield_data[0])\n",
    "df2 = pd.read_excel(yield_data[1])\n",
    "df3 = pd.read_excel(yield_data[2])\n",
    "df4 = pd.read_excel(yield_data[3])\n",
    "df5 = pd.read_excel(yield_data[4])"
   ]
  },
  {
   "cell_type": "code",
   "execution_count": 41,
   "id": "afdbe1db-3ad5-48a6-9ba5-af565ae8ba8d",
   "metadata": {},
   "outputs": [],
   "source": [
    "df3 = pd.read_excel(yield_data[2])"
   ]
  },
  {
   "cell_type": "code",
   "execution_count": 52,
   "id": "f17b9aba-3ce8-403f-a633-cf89f1b3520d",
   "metadata": {},
   "outputs": [
    {
     "data": {
      "text/plain": [
       "Index(['District Name', 'Potato Area', 'Potato Yield', 'Potato Prod',\n",
       "       'Tomato Area', 'Tomato Yield', 'Tomato Prod', 'Tomato_b_Area',\n",
       "       'Tomato_b_Yield', 'Tomato_b_prod', 'Radish Area', 'Radish Yield',\n",
       "       'Radish Prod', 'Carrot Area', 'Carrot Yield', 'Carrot Prod',\n",
       "       'Cabbage Area', 'Cabbage Yield', 'Cabbage Prod', 'Cauliflower Area',\n",
       "       'Cauliflower Yield', 'Cauliflower Prod', 'Year'],\n",
       "      dtype='object')"
      ]
     },
     "execution_count": 52,
     "metadata": {},
     "output_type": "execute_result"
    }
   ],
   "source": [
    "df5.columns"
   ]
  },
  {
   "cell_type": "code",
   "execution_count": 54,
   "id": "057d5bfe-24be-4d0e-90aa-61c46135458c",
   "metadata": {},
   "outputs": [],
   "source": [
    "df5.drop( [ 'Potato Area',  'Potato Prod',\n",
    "       'Tomato Area','Tomato Prod', 'Tomato_b_Area',\n",
    "        'Tomato_b_prod', 'Radish Area', \n",
    "       'Radish Prod', 'Carrot Area',  'Carrot Prod',\n",
    "       'Cabbage Area',  'Cabbage Prod', 'Cauliflower Area',\n",
    "        'Cauliflower Prod', 'Year'], axis=1, inplace=True)"
   ]
  },
  {
   "cell_type": "code",
   "execution_count": 55,
   "id": "254bd8a9-6189-4305-8d76-a56906115aa9",
   "metadata": {},
   "outputs": [
    {
     "data": {
      "text/html": [
       "<div>\n",
       "<style scoped>\n",
       "    .dataframe tbody tr th:only-of-type {\n",
       "        vertical-align: middle;\n",
       "    }\n",
       "\n",
       "    .dataframe tbody tr th {\n",
       "        vertical-align: top;\n",
       "    }\n",
       "\n",
       "    .dataframe thead th {\n",
       "        text-align: right;\n",
       "    }\n",
       "</style>\n",
       "<table border=\"1\" class=\"dataframe\">\n",
       "  <thead>\n",
       "    <tr style=\"text-align: right;\">\n",
       "      <th></th>\n",
       "      <th>District Name</th>\n",
       "      <th>Potato Yield</th>\n",
       "      <th>Tomato Yield</th>\n",
       "      <th>Tomato_b_Yield</th>\n",
       "      <th>Radish Yield</th>\n",
       "      <th>Carrot Yield</th>\n",
       "      <th>Cabbage Yield</th>\n",
       "      <th>Cauliflower Yield</th>\n",
       "    </tr>\n",
       "  </thead>\n",
       "  <tbody>\n",
       "    <tr>\n",
       "      <th>0</th>\n",
       "      <td>Panchkula</td>\n",
       "      <td>27.767956</td>\n",
       "      <td>25.505618</td>\n",
       "      <td>62.500000</td>\n",
       "      <td>24.441341</td>\n",
       "      <td>7.429907</td>\n",
       "      <td>13.846154</td>\n",
       "      <td>11.172566</td>\n",
       "    </tr>\n",
       "    <tr>\n",
       "      <th>1</th>\n",
       "      <td>Ambala</td>\n",
       "      <td>26.516343</td>\n",
       "      <td>28.413187</td>\n",
       "      <td>178.000000</td>\n",
       "      <td>27.694444</td>\n",
       "      <td>23.439901</td>\n",
       "      <td>16.991304</td>\n",
       "      <td>16.788321</td>\n",
       "    </tr>\n",
       "    <tr>\n",
       "      <th>2</th>\n",
       "      <td>Yamuna Nagar</td>\n",
       "      <td>27.419355</td>\n",
       "      <td>33.016529</td>\n",
       "      <td>60.576923</td>\n",
       "      <td>14.146377</td>\n",
       "      <td>32.500000</td>\n",
       "      <td>28.749727</td>\n",
       "      <td>19.032492</td>\n",
       "    </tr>\n",
       "    <tr>\n",
       "      <th>3</th>\n",
       "      <td>Kurukshetra</td>\n",
       "      <td>28.976471</td>\n",
       "      <td>23.642105</td>\n",
       "      <td>0.000000</td>\n",
       "      <td>15.309091</td>\n",
       "      <td>14.545455</td>\n",
       "      <td>13.273585</td>\n",
       "      <td>17.268421</td>\n",
       "    </tr>\n",
       "    <tr>\n",
       "      <th>4</th>\n",
       "      <td>Kaithal</td>\n",
       "      <td>26.886792</td>\n",
       "      <td>27.097561</td>\n",
       "      <td>70.000000</td>\n",
       "      <td>18.415094</td>\n",
       "      <td>17.925926</td>\n",
       "      <td>19.245283</td>\n",
       "      <td>22.333333</td>\n",
       "    </tr>\n",
       "  </tbody>\n",
       "</table>\n",
       "</div>"
      ],
      "text/plain": [
       "  District Name  Potato Yield  Tomato Yield  Tomato_b_Yield  Radish Yield  \\\n",
       "0     Panchkula     27.767956     25.505618       62.500000     24.441341   \n",
       "1        Ambala     26.516343     28.413187      178.000000     27.694444   \n",
       "2  Yamuna Nagar     27.419355     33.016529       60.576923     14.146377   \n",
       "3   Kurukshetra     28.976471     23.642105        0.000000     15.309091   \n",
       "4       Kaithal     26.886792     27.097561       70.000000     18.415094   \n",
       "\n",
       "   Carrot Yield  Cabbage Yield  Cauliflower Yield  \n",
       "0      7.429907      13.846154          11.172566  \n",
       "1     23.439901      16.991304          16.788321  \n",
       "2     32.500000      28.749727          19.032492  \n",
       "3     14.545455      13.273585          17.268421  \n",
       "4     17.925926      19.245283          22.333333  "
      ]
     },
     "execution_count": 55,
     "metadata": {},
     "output_type": "execute_result"
    }
   ],
   "source": [
    "df5.head()"
   ]
  },
  {
   "cell_type": "code",
   "execution_count": 78,
   "id": "153d16df-8bc4-4b8d-9cef-2d2fbe0f58d8",
   "metadata": {},
   "outputs": [
    {
     "data": {
      "text/plain": [
       "Index(['District Name', 'Potato_Yield', 'Onion_Yield', 'Toamto Yield ',\n",
       "       'Tomato_b_Yield', 'Radish_Yield', 'Carrot_Yield', 'Cabbage_Yield',\n",
       "       'Cauliflower_Yield', 'Year'],\n",
       "      dtype='object')"
      ]
     },
     "execution_count": 78,
     "metadata": {},
     "output_type": "execute_result"
    }
   ],
   "source": [
    "df3.columns"
   ]
  },
  {
   "cell_type": "code",
   "execution_count": 79,
   "id": "b328dc72-58b3-4d5c-9fbe-27e4347b3c47",
   "metadata": {},
   "outputs": [],
   "source": [
    "df3.rename(columns={'Toamto Yield ' : 'Tomato_Yield'}, inplace=True)"
   ]
  },
  {
   "cell_type": "code",
   "execution_count": 68,
   "id": "4f27d959-cf36-44c8-8ae0-43f4948ef0f3",
   "metadata": {},
   "outputs": [
    {
     "data": {
      "text/plain": [
       "Index(['District Name', 'Potato_Yield', 'Tomato_Yield', 'Tomato_b_Yield',\n",
       "       'Radish_Yield', 'Carrot_Yield', 'Cabbage_Yield', 'Cauliflower_Yield'],\n",
       "      dtype='object')"
      ]
     },
     "execution_count": 68,
     "metadata": {},
     "output_type": "execute_result"
    }
   ],
   "source": [
    "df5.columns"
   ]
  },
  {
   "cell_type": "code",
   "execution_count": 70,
   "id": "5c54bfae-dc29-4f93-9267-b567a51bf6ca",
   "metadata": {},
   "outputs": [],
   "source": [
    "df1['Year'] = 2017"
   ]
  },
  {
   "cell_type": "code",
   "execution_count": 83,
   "id": "9c9f56cd-a783-4b80-a2bc-84f2c534320b",
   "metadata": {},
   "outputs": [
    {
     "data": {
      "text/html": [
       "<div>\n",
       "<style scoped>\n",
       "    .dataframe tbody tr th:only-of-type {\n",
       "        vertical-align: middle;\n",
       "    }\n",
       "\n",
       "    .dataframe tbody tr th {\n",
       "        vertical-align: top;\n",
       "    }\n",
       "\n",
       "    .dataframe thead th {\n",
       "        text-align: right;\n",
       "    }\n",
       "</style>\n",
       "<table border=\"1\" class=\"dataframe\">\n",
       "  <thead>\n",
       "    <tr style=\"text-align: right;\">\n",
       "      <th></th>\n",
       "      <th>District Name</th>\n",
       "      <th>Potato_Yield</th>\n",
       "      <th>Onion_Yield</th>\n",
       "      <th>Tomato_Yield</th>\n",
       "      <th>Tomato_b_Yield</th>\n",
       "      <th>Radish_Yield</th>\n",
       "      <th>Carrot_Yield</th>\n",
       "      <th>Cabbage_Yield</th>\n",
       "      <th>Cauliflower_Yield</th>\n",
       "      <th>Year</th>\n",
       "    </tr>\n",
       "  </thead>\n",
       "  <tbody>\n",
       "    <tr>\n",
       "      <th>0</th>\n",
       "      <td>Panchkula</td>\n",
       "      <td>21.734554</td>\n",
       "      <td>21.292740</td>\n",
       "      <td>20.854545</td>\n",
       "      <td>47.5</td>\n",
       "      <td>15.470019</td>\n",
       "      <td>15.912195</td>\n",
       "      <td>17.704918</td>\n",
       "      <td>17.011887</td>\n",
       "      <td>2017</td>\n",
       "    </tr>\n",
       "    <tr>\n",
       "      <th>1</th>\n",
       "      <td>Ambala</td>\n",
       "      <td>23.558722</td>\n",
       "      <td>22.081374</td>\n",
       "      <td>29.275152</td>\n",
       "      <td>49.0</td>\n",
       "      <td>12.461162</td>\n",
       "      <td>15.516484</td>\n",
       "      <td>12.717456</td>\n",
       "      <td>13.800344</td>\n",
       "      <td>2017</td>\n",
       "    </tr>\n",
       "    <tr>\n",
       "      <th>2</th>\n",
       "      <td>Yamuna Nagar</td>\n",
       "      <td>20.878521</td>\n",
       "      <td>14.234483</td>\n",
       "      <td>27.277778</td>\n",
       "      <td>NaN</td>\n",
       "      <td>13.782979</td>\n",
       "      <td>14.434783</td>\n",
       "      <td>21.643836</td>\n",
       "      <td>15.204276</td>\n",
       "      <td>2017</td>\n",
       "    </tr>\n",
       "    <tr>\n",
       "      <th>3</th>\n",
       "      <td>Kurukshetra</td>\n",
       "      <td>26.653450</td>\n",
       "      <td>25.454348</td>\n",
       "      <td>5.989583</td>\n",
       "      <td>40.0</td>\n",
       "      <td>8.791667</td>\n",
       "      <td>12.572816</td>\n",
       "      <td>10.935593</td>\n",
       "      <td>14.972897</td>\n",
       "      <td>2017</td>\n",
       "    </tr>\n",
       "    <tr>\n",
       "      <th>4</th>\n",
       "      <td>Kaithal</td>\n",
       "      <td>24.989293</td>\n",
       "      <td>28.129371</td>\n",
       "      <td>15.764103</td>\n",
       "      <td>70.0</td>\n",
       "      <td>15.088889</td>\n",
       "      <td>14.652406</td>\n",
       "      <td>17.448571</td>\n",
       "      <td>15.392670</td>\n",
       "      <td>2017</td>\n",
       "    </tr>\n",
       "  </tbody>\n",
       "</table>\n",
       "</div>"
      ],
      "text/plain": [
       "  District Name  Potato_Yield  Onion_Yield  Tomato_Yield  Tomato_b_Yield  \\\n",
       "0     Panchkula     21.734554    21.292740     20.854545            47.5   \n",
       "1        Ambala     23.558722    22.081374     29.275152            49.0   \n",
       "2  Yamuna Nagar     20.878521    14.234483     27.277778             NaN   \n",
       "3   Kurukshetra     26.653450    25.454348      5.989583            40.0   \n",
       "4       Kaithal     24.989293    28.129371     15.764103            70.0   \n",
       "\n",
       "   Radish_Yield  Carrot_Yield  Cabbage_Yield  Cauliflower_Yield  Year  \n",
       "0     15.470019     15.912195      17.704918          17.011887  2017  \n",
       "1     12.461162     15.516484      12.717456          13.800344  2017  \n",
       "2     13.782979     14.434783      21.643836          15.204276  2017  \n",
       "3      8.791667     12.572816      10.935593          14.972897  2017  \n",
       "4     15.088889     14.652406      17.448571          15.392670  2017  "
      ]
     },
     "execution_count": 83,
     "metadata": {},
     "output_type": "execute_result"
    }
   ],
   "source": [
    "df1.head()"
   ]
  },
  {
   "cell_type": "code",
   "execution_count": 85,
   "id": "4c5ddc45-31dc-420d-9ade-cc903989e872",
   "metadata": {},
   "outputs": [
    {
     "data": {
      "text/html": [
       "<div>\n",
       "<style scoped>\n",
       "    .dataframe tbody tr th:only-of-type {\n",
       "        vertical-align: middle;\n",
       "    }\n",
       "\n",
       "    .dataframe tbody tr th {\n",
       "        vertical-align: top;\n",
       "    }\n",
       "\n",
       "    .dataframe thead th {\n",
       "        text-align: right;\n",
       "    }\n",
       "</style>\n",
       "<table border=\"1\" class=\"dataframe\">\n",
       "  <thead>\n",
       "    <tr style=\"text-align: right;\">\n",
       "      <th></th>\n",
       "      <th>District Name</th>\n",
       "      <th>Potato_Yield</th>\n",
       "      <th>Tomato_Yield</th>\n",
       "      <th>Tomato_b_Yield</th>\n",
       "      <th>Radish_Yield</th>\n",
       "      <th>Carrot_Yield</th>\n",
       "      <th>Cabbage_Yield</th>\n",
       "      <th>Cauliflower_Yield</th>\n",
       "      <th>Year</th>\n",
       "    </tr>\n",
       "  </thead>\n",
       "  <tbody>\n",
       "    <tr>\n",
       "      <th>0</th>\n",
       "      <td>Panchkula</td>\n",
       "      <td>27.767956</td>\n",
       "      <td>25.505618</td>\n",
       "      <td>62.500000</td>\n",
       "      <td>24.441341</td>\n",
       "      <td>7.429907</td>\n",
       "      <td>13.846154</td>\n",
       "      <td>11.172566</td>\n",
       "      <td>2021</td>\n",
       "    </tr>\n",
       "    <tr>\n",
       "      <th>1</th>\n",
       "      <td>Ambala</td>\n",
       "      <td>26.516343</td>\n",
       "      <td>28.413187</td>\n",
       "      <td>178.000000</td>\n",
       "      <td>27.694444</td>\n",
       "      <td>23.439901</td>\n",
       "      <td>16.991304</td>\n",
       "      <td>16.788321</td>\n",
       "      <td>2021</td>\n",
       "    </tr>\n",
       "    <tr>\n",
       "      <th>2</th>\n",
       "      <td>Yamuna Nagar</td>\n",
       "      <td>27.419355</td>\n",
       "      <td>33.016529</td>\n",
       "      <td>60.576923</td>\n",
       "      <td>14.146377</td>\n",
       "      <td>32.500000</td>\n",
       "      <td>28.749727</td>\n",
       "      <td>19.032492</td>\n",
       "      <td>2021</td>\n",
       "    </tr>\n",
       "    <tr>\n",
       "      <th>3</th>\n",
       "      <td>Kurukshetra</td>\n",
       "      <td>28.976471</td>\n",
       "      <td>23.642105</td>\n",
       "      <td>0.000000</td>\n",
       "      <td>15.309091</td>\n",
       "      <td>14.545455</td>\n",
       "      <td>13.273585</td>\n",
       "      <td>17.268421</td>\n",
       "      <td>2021</td>\n",
       "    </tr>\n",
       "    <tr>\n",
       "      <th>4</th>\n",
       "      <td>Kaithal</td>\n",
       "      <td>26.886792</td>\n",
       "      <td>27.097561</td>\n",
       "      <td>70.000000</td>\n",
       "      <td>18.415094</td>\n",
       "      <td>17.925926</td>\n",
       "      <td>19.245283</td>\n",
       "      <td>22.333333</td>\n",
       "      <td>2021</td>\n",
       "    </tr>\n",
       "  </tbody>\n",
       "</table>\n",
       "</div>"
      ],
      "text/plain": [
       "  District Name  Potato_Yield  Tomato_Yield  Tomato_b_Yield  Radish_Yield  \\\n",
       "0     Panchkula     27.767956     25.505618       62.500000     24.441341   \n",
       "1        Ambala     26.516343     28.413187      178.000000     27.694444   \n",
       "2  Yamuna Nagar     27.419355     33.016529       60.576923     14.146377   \n",
       "3   Kurukshetra     28.976471     23.642105        0.000000     15.309091   \n",
       "4       Kaithal     26.886792     27.097561       70.000000     18.415094   \n",
       "\n",
       "   Carrot_Yield  Cabbage_Yield  Cauliflower_Yield  Year  \n",
       "0      7.429907      13.846154          11.172566  2021  \n",
       "1     23.439901      16.991304          16.788321  2021  \n",
       "2     32.500000      28.749727          19.032492  2021  \n",
       "3     14.545455      13.273585          17.268421  2021  \n",
       "4     17.925926      19.245283          22.333333  2021  "
      ]
     },
     "execution_count": 85,
     "metadata": {},
     "output_type": "execute_result"
    }
   ],
   "source": [
    "df5.head()"
   ]
  },
  {
   "cell_type": "code",
   "execution_count": 86,
   "id": "62634367-e39e-47ff-a5f3-272a8864807b",
   "metadata": {},
   "outputs": [],
   "source": [
    "result = pd.concat([df1,df2,df3,df4,df5], axis=0)"
   ]
  },
  {
   "cell_type": "code",
   "execution_count": 87,
   "id": "e54c35d2-b9f4-458f-9f9a-83faa48dd90e",
   "metadata": {},
   "outputs": [
    {
     "data": {
      "text/plain": [
       "Index(['District Name', 'Potato_Yield', 'Onion_Yield', 'Tomato_Yield',\n",
       "       'Tomato_b_Yield', 'Radish_Yield', 'Carrot_Yield', 'Cabbage_Yield',\n",
       "       'Cauliflower_Yield', 'Year'],\n",
       "      dtype='object')"
      ]
     },
     "execution_count": 87,
     "metadata": {},
     "output_type": "execute_result"
    }
   ],
   "source": [
    "result.columns"
   ]
  },
  {
   "cell_type": "code",
   "execution_count": 94,
   "id": "ca8de946-ef7b-4312-8f34-103673d64c65",
   "metadata": {},
   "outputs": [],
   "source": [
    "result.drop(['Onion_Yield'], inplace=True, axis=1)"
   ]
  },
  {
   "cell_type": "code",
   "execution_count": 95,
   "id": "77d115ea-d0bc-4c45-8813-d2e382aef5c3",
   "metadata": {},
   "outputs": [],
   "source": [
    "result.to_csv(\"yield_merged.csv\")"
   ]
  }
 ],
 "metadata": {
  "kernelspec": {
   "display_name": "Python 3 (ipykernel)",
   "language": "python",
   "name": "python3"
  },
  "language_info": {
   "codemirror_mode": {
    "name": "ipython",
    "version": 3
   },
   "file_extension": ".py",
   "mimetype": "text/x-python",
   "name": "python",
   "nbconvert_exporter": "python",
   "pygments_lexer": "ipython3",
   "version": "3.11.0"
  }
 },
 "nbformat": 4,
 "nbformat_minor": 5
}
